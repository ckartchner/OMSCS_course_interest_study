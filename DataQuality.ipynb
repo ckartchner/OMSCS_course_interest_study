{
 "cells": [
  {
   "cell_type": "markdown",
   "metadata": {},
   "source": [
    "# Analysis of the quality of the data in the courses db\n",
    "\n",
    "Due to how the data is gathered, there will likely be some gaps in the data. \n",
    "This should not significanly impact most analysis, but it is important to be aware of.\n",
    "\n",
    "Assuming the data was collected at a regular interval, this analysis points out where gaps in the data might be found.\n",
    "\n",
    "Sample causes of missing data:\n",
    "- Data unavailable when requested from server\n",
    "  - Server maintence\n",
    "  - Network connectivity issue\n",
    "- Unhandled changes in the path to the data\n",
    "- Unhandled changes to the structure of the data\n",
    "- Other unexpected error"
   ]
  },
  {
   "cell_type": "code",
   "execution_count": 1,
   "metadata": {},
   "outputs": [],
   "source": [
    "import sqlite3\n",
    "import pandas as pd\n",
    "import datetime\n",
    "\n",
    "dbname = \"OMSCS_CA.db\"\n",
    "conn = sqlite3.connect(dbname)\n",
    "# Tables not all guarenteed to have the same number of readings recorded\n",
    "# ML used here as reference dataset as it's consistently a very popular course\n",
    "ref_df = pd.read_sql_query(\"SELECT Timestamp FROM F18_87100\", \n",
    "                           conn, \n",
    "                           parse_dates=['Timestamp']\n",
    "                          )  # Machine Learning\n",
    "# Create a table of the differences in timestamps between all table entries\n",
    "diff_df = ref_df.diff()"
   ]
  },
  {
   "cell_type": "code",
   "execution_count": 2,
   "metadata": {
    "scrolled": true
   },
   "outputs": [
    {
     "name": "stdout",
     "output_type": "stream",
     "text": [
      "Gaps identified:\n",
      "                       Start                       Stop                   Diff\n",
      "0 2018-08-04 04:41:39.716194 2018-08-05 11:42:12.237736 1 days 07:00:32.521542\n",
      "1 2018-08-05 11:42:12.237736 2018-08-05 23:46:46.430161 0 days 12:04:34.192425\n",
      "2 2018-08-06 15:46:33.348270 2018-08-06 16:46:33.135580 0 days 00:59:59.787310\n",
      "3 2018-08-06 20:46:33.387863 2018-08-06 21:46:36.821216 0 days 01:00:03.433353\n",
      "4 2018-08-07 08:16:32.512346 2018-08-07 09:01:34.565700 0 days 00:45:02.053354\n",
      "5 2018-08-07 10:00:13.804891 2018-08-07 10:40:17.875072 0 days 00:40:04.070181\n",
      "6 2018-08-08 03:09:28.824382 2018-08-08 04:09:34.142327 0 days 01:00:05.317945\n",
      "7 2018-08-08 10:09:29.674694 2018-08-08 11:09:29.693565 0 days 01:00:00.018871\n",
      "8 2018-08-08 19:39:29.946614 2018-08-08 20:39:30.063556 0 days 01:00:00.116942\n",
      "9 2018-08-09 12:09:29.502975 2018-08-09 13:09:31.122096 0 days 01:00:01.619121\n"
     ]
    }
   ],
   "source": [
    "# Simple gap determination if expected interval is known\n",
    "timedelta = datetime.timedelta(minutes=35)\n",
    "gaps_df = pd.DataFrame(columns=['Start','Stop','Diff'])\n",
    "for row in diff_df.itertuples():\n",
    "    if row[1] > timedelta:\n",
    "        idx = row[0]\n",
    "        gaps_df.loc[len(gaps_df)] = [ref_df.iloc[idx-1,0], ref_df.iloc[idx,0], row[1]]\n",
    "print(\"Gaps identified:\")\n",
    "print(gaps_df)"
   ]
  },
  {
   "cell_type": "code",
   "execution_count": 3,
   "metadata": {},
   "outputs": [
    {
     "name": "stdout",
     "output_type": "stream",
     "text": [
      "Gap identification characteristics:\n",
      "Gap if time diff > 0 days 00:36:35.112266\n",
      "Mean:0 days 00:30:54.436811\n",
      "Std: 0 days 00:05:40.675454\n",
      "\n",
      "Gaps identified:\n",
      "                       Start                       Stop                   Diff\n",
      "0 2018-08-04 04:41:39.716194 2018-08-05 11:42:12.237736 1 days 07:00:32.521542\n",
      "1 2018-08-05 11:42:12.237736 2018-08-05 23:46:46.430161 0 days 12:04:34.192425\n",
      "2 2018-08-06 15:46:33.348270 2018-08-06 16:46:33.135580 0 days 00:59:59.787310\n",
      "3 2018-08-06 20:46:33.387863 2018-08-06 21:46:36.821216 0 days 01:00:03.433353\n",
      "4 2018-08-07 08:16:32.512346 2018-08-07 09:01:34.565700 0 days 00:45:02.053354\n",
      "5 2018-08-07 10:00:13.804891 2018-08-07 10:40:17.875072 0 days 00:40:04.070181\n",
      "6 2018-08-08 03:09:28.824382 2018-08-08 04:09:34.142327 0 days 01:00:05.317945\n",
      "7 2018-08-08 10:09:29.674694 2018-08-08 11:09:29.693565 0 days 01:00:00.018871\n",
      "8 2018-08-08 19:39:29.946614 2018-08-08 20:39:30.063556 0 days 01:00:00.116942\n",
      "9 2018-08-09 12:09:29.502975 2018-08-09 13:09:31.122096 0 days 01:00:01.619121\n"
     ]
    }
   ],
   "source": [
    "# Gap determination if expected gap is unknown\n",
    "\n",
    "# Assuming the dataset has a constant interval, the list can be repeatedly \n",
    "# filtered until the variance is below some threshold\n",
    "# However, if the dataset is very large and has high gap rate, a threshold would be needed to avoid too many iterations\n",
    "# Also, a min expected gap could be considered to improve efficiency\n",
    "\n",
    "# Remove outliers - Anything more than 1 std away from the mean\n",
    "out_cutoff = (diff_df.mean(axis=0) + diff_df.std(axis=0))[0]\n",
    "filtered_df = diff_df[diff_df['Timestamp'] < out_cutoff]\n",
    "\n",
    "# Consider all points more than 1 std away from list with major outliers removed\n",
    "# Might miss some gaps if the major outliers are very large\n",
    "fmean = filtered_df.mean(axis=0)[0]\n",
    "fstd = filtered_df.std(axis=0)[0]\n",
    "out_cutoff = (fmean + fstd)\n",
    "print(\"Gap identification characteristics:\")\n",
    "print(f\"Gap if time diff > {out_cutoff}\")\n",
    "print(f\"Mean:{fmean}\")\n",
    "print(f\"Std: {fstd}\\n\")\n",
    "\n",
    "# Create table of data gaps\n",
    "gaps_df = pd.DataFrame(columns=['Start','Stop','Diff'])\n",
    "for row in diff_df.itertuples():  \n",
    "    if row[1] > out_cutoff:\n",
    "        idx = row[0]\n",
    "        gaps_df.loc[len(gaps_df)] = [ref_df.iloc[idx-1,0], ref_df.iloc[idx,0], row[1]]\n",
    "print(\"Gaps identified:\")\n",
    "print(gaps_df) "
   ]
  }
 ],
 "metadata": {
  "kernelspec": {
   "display_name": "Python [conda env:webtest]",
   "language": "python",
   "name": "conda-env-webtest-py"
  },
  "language_info": {
   "codemirror_mode": {
    "name": "ipython",
    "version": 3
   },
   "file_extension": ".py",
   "mimetype": "text/x-python",
   "name": "python",
   "nbconvert_exporter": "python",
   "pygments_lexer": "ipython3",
   "version": "3.6.6"
  }
 },
 "nbformat": 4,
 "nbformat_minor": 2
}
